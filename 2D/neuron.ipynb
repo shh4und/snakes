{
 "cells": [
  {
   "cell_type": "code",
   "execution_count": null,
   "metadata": {},
   "outputs": [],
   "source": [
    "import sys\n",
    "sys.path.append('/home/dnxx/RMNIM/')\n",
    "from ip import *"
   ]
  },
  {
   "cell_type": "code",
   "execution_count": null,
   "metadata": {},
   "outputs": [],
   "source": [
    "import cv2\n",
    "import numpy as np\n",
    "from ac2D import *\n",
    "import matplotlib.pyplot as plt\n",
    "from snake import Snake2D, Snake3D, SnakeParams\n",
    "from skimage.util import img_as_ubyte"
   ]
  },
  {
   "cell_type": "code",
   "execution_count": null,
   "metadata": {},
   "outputs": [],
   "source": [
    "OP1 = load_tif_stack(\"./OPF/\")"
   ]
  },
  {
   "cell_type": "code",
   "execution_count": null,
   "metadata": {},
   "outputs": [],
   "source": [
    "# simple_imshow(projection2d(img_as_ubyte(OP1), \"max\"))"
   ]
  },
  {
   "cell_type": "code",
   "execution_count": null,
   "metadata": {},
   "outputs": [],
   "source": [
    "# slide_imshow(img_as_ubyte(OP1))"
   ]
  },
  {
   "cell_type": "code",
   "execution_count": null,
   "metadata": {},
   "outputs": [],
   "source": [
    "OP1_cropped = OP1[:,:,:]"
   ]
  },
  {
   "cell_type": "code",
   "execution_count": null,
   "metadata": {},
   "outputs": [],
   "source": [
    "# simple_imshow([projection2d(img_as_ubyte(OP1_cropped), \"max\")])"
   ]
  },
  {
   "cell_type": "code",
   "execution_count": null,
   "metadata": {},
   "outputs": [],
   "source": [
    "OP1_proj2d = projection2d(img_as_ubyte(OP1_cropped), \"max\")"
   ]
  },
  {
   "cell_type": "code",
   "execution_count": null,
   "metadata": {},
   "outputs": [],
   "source": [
    "# Parâmetros da elipse\n",
    "center = (OP1_proj2d.shape[1] // 2 - 220, OP1_proj2d.shape[0] // 2 + 155)  # Centro em (x, y)\n",
    "semi_major = 32  # Semi-eixo maior\n",
    "semi_minor = 17  # Semi-eixo menor\n",
    "angle = 90*np.pi/180  # Rotação de 45 graus\n",
    "num_points = 70  # Número de pontos\n",
    "\n",
    "# Gerar contorno elíptico\n",
    "OP1_V_elipse = init_elipse(center, semi_major, semi_minor, angle, num_points)\n",
    "\n",
    "# metal1_V_circle = init_circle(\n",
    "#     (metal1.shape[1] // 2 - 3, metal1.shape[0] // 2 - 50), 370, num_points=50\n",
    "# )\n",
    "subdivision_k = 3\n",
    "OP1_V_subdivided = subdivision(OP1_V_elipse, k=subdivision_k)\n",
    "print(\"Pontos subdivididos:\", OP1_V_subdivided.shape)\n",
    "OP1_v_init = OP1_V_subdivided"
   ]
  },
  {
   "cell_type": "code",
   "execution_count": null,
   "metadata": {},
   "outputs": [],
   "source": [
    "# Display initial contour\n",
    "fig, (ax1, ax2) = plt.subplots(1, 2, figsize=(16, 8))\n",
    "ax1.imshow(OP1_proj2d, cmap=\"gray\")\n",
    "ax1.set_title(\"OP1 proj2d\")\n",
    "ax1.axis(\"off\")\n",
    "ax2.imshow(OP1_proj2d, cmap=\"gray\")\n",
    "ax2.set_title(\"OP1 proj2d init contour\")\n",
    "ax2.plot(OP1_v_init[:, 0], OP1_v_init[:, 1], \"r-\")\n",
    "ax2.axis(\"off\")\n",
    "plt.tight_layout()\n",
    "plt.show()"
   ]
  },
  {
   "cell_type": "code",
   "execution_count": null,
   "metadata": {},
   "outputs": [],
   "source": [
    "# Configure snake parameters\n",
    "OP1_params = SnakeParams(\n",
    "    alpha=400.0,  # Stronger continuity\n",
    "    beta=400.0,  # Stronger curvature\n",
    "    k=float(subdivision_k),\n",
    "    gamma=0.0025,  # Smaller time step\n",
    "    sigma=2.0,  # Less blur\n",
    "    kb=0.0,  # Weaker balloon force\n",
    "    sb=0.0,  # More smoothing\n",
    "    max_iter=1000,\n",
    "    verbose=True,\n",
    "    cubic_spline_refinement=True,\n",
    "    dmax=1.5,\n",
    "    mfactor=1.03,\n",
    "    vfc_ksize=5,\n",
    "    vfc_sigma=2.0,\n",
    "    L2_gradient=False\n",
    ")\n",
    "\n",
    "# Create and evolve snake\n",
    "OP1_snake = Snake3D(OP1_cropped, OP1_v_init, OP1_params)\n",
    "v_final = OP1_snake.evolve_coupled()\n"
   ]
  },
  {
   "cell_type": "code",
   "execution_count": null,
   "metadata": {},
   "outputs": [],
   "source": [
    "len(v_final[0])"
   ]
  },
  {
   "cell_type": "code",
   "execution_count": null,
   "metadata": {},
   "outputs": [],
   "source": [
    "for z in range(OP1_cropped.shape[0]):\n",
    "    # Display result\n",
    "    plt.figure(figsize=(6, 6))\n",
    "    plt.imshow(OP1_cropped[z], cmap=\"gray\")\n",
    "    plt.plot(OP1_v_init[:, 0], OP1_v_init[:, 1], \"r-\")\n",
    "    plt.plot(v_final[z][:, 0], v_final[z][:, 1], \"g-\")\n",
    "    plt.axis(\"off\")\n",
    "    plt.show()"
   ]
  },
  {
   "cell_type": "code",
   "execution_count": null,
   "metadata": {},
   "outputs": [],
   "source": [
    "smoothed_OP1 = OP1_snake.get_I()\n",
    "edge_map_OP1 = OP1_snake.get_edge_map()\n",
    "fx_OP1, fy_OP1 = OP1_snake.get_fext_components()\n",
    "\n",
    "print(smoothed_OP1.shape, edge_map_OP1.shape, fx_OP1.shape, fy_OP1.shape)\n",
    "print(smoothed_OP1.dtype, edge_map_OP1.dtype, fx_OP1.dtype, fy_OP1.dtype)"
   ]
  },
  {
   "cell_type": "code",
   "execution_count": null,
   "metadata": {},
   "outputs": [],
   "source": [
    "num_imgs = len(OP1_cropped)\n",
    "cols = 4  # 4 imagens por linha\n",
    "rows = num_imgs  # cada conjunto ocupa uma linha\n",
    "\n",
    "fig, axarr = plt.subplots(rows, cols, figsize=(14, 4 * rows))\n",
    "\n",
    "for i, img in enumerate(OP1_cropped):\n",
    "    axarr[i, 0].imshow(smoothed_OP1[i], cmap=\"gray\")\n",
    "    axarr[i, 0].set_title(f\"smoothed {i+1}\")\n",
    "    axarr[i, 0].axis(\"off\")\n",
    "\n",
    "    axarr[i, 1].imshow(edge_map_OP1[i], cmap=\"gray\")\n",
    "    axarr[i, 1].set_title(f\"edgemap {i+1}\")\n",
    "    axarr[i, 1].axis(\"off\")\n",
    "\n",
    "    axarr[i, 2].imshow(fx_OP1[i], cmap=\"gray\")\n",
    "    axarr[i, 2].set_title(f\"FX {i+1}\")\n",
    "    axarr[i, 2].axis(\"off\")\n",
    "\n",
    "    axarr[i, 3].imshow(fy_OP1[i], cmap=\"gray\")\n",
    "    axarr[i, 3].set_title(f\"FY  {i+1}\")\n",
    "    axarr[i, 3].axis(\"off\")\n",
    "plt.tight_layout()\n",
    "plt.show()"
   ]
  }
 ],
 "metadata": {
  "kernelspec": {
   "display_name": "Python 3 (ipykernel)",
   "language": "python",
   "name": "python3"
  },
  "language_info": {
   "codemirror_mode": {
    "name": "ipython",
    "version": 3
   },
   "file_extension": ".py",
   "mimetype": "text/x-python",
   "name": "python",
   "nbconvert_exporter": "python",
   "pygments_lexer": "ipython3"
  }
 },
 "nbformat": 4,
 "nbformat_minor": 4
}
