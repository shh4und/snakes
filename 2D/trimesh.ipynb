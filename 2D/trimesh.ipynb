{
 "cells": [
  {
   "cell_type": "code",
   "execution_count": null,
   "id": "26c321e9-4fec-4842-8010-a2b297197fa0",
   "metadata": {},
   "outputs": [],
   "source": [
    "import numpy as np\n",
    "import trimesh\n",
    "from ac3D.snake3D import evolution_snake3d, Snake3DParams\n",
    "from ac3D.meshing import trisphere\n",
    "from ac3D.visualization import visualize_evolution, visualize_volume_plotly\n",
    "import scipy.ndimage as ndi\n",
    "import plotly.graph_objects as go\n"
   ]
  },
  {
   "cell_type": "code",
   "execution_count": null,
   "id": "79ddce3f-29c5-448b-b596-e1c07d87efd2",
   "metadata": {},
   "outputs": [],
   "source": [
    "size = 100\n",
    "volume = np.zeros((size, size, size))  # background is 0\n",
    "\n",
    "# Ellipsoid axes (semi-axis lengths)\n",
    "a, b, c = size // 3, size // 4, size // 5  # along x, y, z\n",
    "\n",
    "# Generate coordinate grid\n",
    "x, y, z = np.ogrid[-size/2:size/2, -size/2:size/2, -size/2:size/2]\n",
    "\n",
    "# Ellipsoid equation\n",
    "mask = (x / a)**2 + (y / b)**2 + (z / c)**2 <= 1\n",
    "\n",
    "# Fill ellipsoid\n",
    "volume[mask] = 1\n",
    "\n",
    "# Reduce noise and smoothing to create sharper boundaries\n",
    "# volume = ndi.gaussian_filter(volume + 0.1 * np.random.randn(*volume.shape), sigma=1)"
   ]
  },
  {
   "cell_type": "code",
   "execution_count": null,
   "id": "7018b3bf-1c7f-47cc-9ea8-651a95ac5975",
   "metadata": {},
   "outputs": [],
   "source": [
    "# # # Example usage\n",
    "# fig = visualize_volume_plotly(volume, threshold=0.1)\n",
    "# fig.show()"
   ]
  },
  {
   "cell_type": "code",
   "execution_count": null,
   "id": "27e3e270-e747-4870-ad2f-e189c1d878c0",
   "metadata": {},
   "outputs": [],
   "source": [
    "# Create initial mesh (slightly larger than the object)\n",
    "vertices, faces = trisphere(iterations=5, radius=10, x_0=size//2, y_0=size//2, z_0=size//2)\n",
    "mesh_init = trimesh.Trimesh(vertices=vertices, faces=faces)"
   ]
  },
  {
   "cell_type": "code",
   "execution_count": null,
   "id": "788fe85a-907e-4621-aca3-ac3bb26a10c6",
   "metadata": {},
   "outputs": [],
   "source": [
    "#mesh_init.show()"
   ]
  },
  {
   "cell_type": "code",
   "execution_count": null,
   "id": "9665a5cb-e0c3-44d0-9fe4-729b6f16ce94",
   "metadata": {},
   "outputs": [],
   "source": [
    "# In a notebook cell:\n",
    "mesh_snapshots = []\n",
    "\n",
    "# Save initial mesh\n",
    "mesh_snapshots.append(mesh_init.copy())\n",
    "\n",
    "# # Run snake for 250 iterations\n",
    "# mesh_1 = evolution_snake3d(\n",
    "#     volume, \n",
    "#     mesh_init,\n",
    "#     alpha=3000.0,\n",
    "#     beta=1000.0,\n",
    "#     gamma=3e-5,\n",
    "#     kb=150.0,\n",
    "#     vfc_size=20,        # Larger kernel \n",
    "#     vfc_sigma=7.0,      # Wider spread\n",
    "#     max_iter=400\n",
    "# )\n",
    "# mesh_snapshots.append(mesh_1)\n",
    "\n",
    "# mesh_2 = evolution_snake3d(\n",
    "#     volume, \n",
    "#     mesh_init,\n",
    "#     alpha=3000.0,\n",
    "#     beta=1000.0,\n",
    "#     gamma=3e-5,\n",
    "#     kb=150.0,\n",
    "#     vfc_size=20,        # Larger kernel \n",
    "#     vfc_sigma=7.0,      # Wider spread\n",
    "#     max_iter=800\n",
    "# )\n",
    "# mesh_snapshots.append(mesh_2)\n",
    "\n",
    "mesh_3 = evolution_snake3d(\n",
    "    volume, \n",
    "    mesh_init,\n",
    "    alpha=3500.0,\n",
    "    beta=500.0,\n",
    "    sigma=1.0,\n",
    "    gamma=3e-4,\n",
    "    kb=150.0,\n",
    "    vfc_size=15,        # Larger kernel \n",
    "    vfc_sigma=5.0,      # Wider spread\n",
    "    max_iter=3000,\n",
    "    remesh_interval=250\n",
    ")\n",
    "mesh_snapshots.append(mesh_3)"
   ]
  },
  {
   "cell_type": "code",
   "execution_count": null,
   "id": "762fb1cf-e76e-4a7c-a620-7e5aedd08199",
   "metadata": {},
   "outputs": [],
   "source": [
    "# Create and display the visualization\n",
    "fig = visualize_evolution(volume, mesh_snapshots, threshold=0.5)\n",
    "fig.show()"
   ]
  },
  {
   "cell_type": "code",
   "execution_count": null,
   "id": "c3475ca5-c4c3-44b7-bf7c-ed1182524815",
   "metadata": {},
   "outputs": [],
   "source": [
    "# In a notebook cell:\n",
    "mesh_snapshots = []\n",
    "\n",
    "# Save initial mesh\n",
    "mesh_snapshots.append(mesh_init.copy())\n",
    "\n",
    "# Run snake for 250 iterations\n",
    "mesh_1 = evolution_snake3d(\n",
    "    volume, \n",
    "    mesh_init,\n",
    "    alpha=1500.0,\n",
    "    beta=170.0,\n",
    "    gamma=3e-5,\n",
    "    kb=300.0,\n",
    "    vfc_size=5,        # Larger kernel \n",
    "    vfc_sigma=3.0,      # Wider spread\n",
    "    max_iter=400\n",
    ")\n",
    "mesh_snapshots.append(mesh_1)\n",
    "\n",
    "mesh_2 = evolution_snake3d(\n",
    "    volume, \n",
    "    mesh_init,\n",
    "    alpha=1500.0,\n",
    "    beta=170.0,\n",
    "    gamma=3e-5,\n",
    "    kb=300.0,\n",
    "    vfc_size=5,        # Larger kernel \n",
    "    vfc_sigma=3.0,      # Wider spread\n",
    "    max_iter=800\n",
    ")\n",
    "mesh_snapshots.append(mesh_2)\n",
    "\n",
    "mesh_3 = evolution_snake3d(\n",
    "    volume, \n",
    "    mesh_init,\n",
    "    alpha=1500.0,\n",
    "    beta=170.0,\n",
    "    gamma=3e-5,\n",
    "    kb=300.0,\n",
    "    vfc_size=5,        # Larger kernel \n",
    "    vfc_sigma=3.0,      # Wider spread\n",
    "    max_iter=1600\n",
    ")\n",
    "mesh_snapshots.append(mesh_3)"
   ]
  },
  {
   "cell_type": "code",
   "execution_count": null,
   "id": "e0f55adc-53c5-42b4-8f9e-f091f3e60f9c",
   "metadata": {},
   "outputs": [],
   "source": [
    "# Create and display the visualization\n",
    "fig2 = visualize_evolution(volume, mesh_snapshots, threshold=0.5)\n",
    "fig2.show()"
   ]
  }
 ],
 "metadata": {
  "kernelspec": {
   "display_name": "Python 3 (ipykernel)",
   "language": "python",
   "name": "python3"
  },
  "language_info": {
   "codemirror_mode": {
    "name": "ipython",
    "version": 3
   },
   "file_extension": ".py",
   "mimetype": "text/x-python",
   "name": "python",
   "nbconvert_exporter": "python",
   "pygments_lexer": "ipython3"
  }
 },
 "nbformat": 4,
 "nbformat_minor": 5
}
